{
 "cells": [
  {
   "cell_type": "code",
   "execution_count": 1,
   "metadata": {},
   "outputs": [],
   "source": [
    "import numpy as np\n",
    "import mne\n",
    "import matplotlib as plt"
   ]
  },
  {
   "cell_type": "code",
   "execution_count": 2,
   "metadata": {},
   "outputs": [
    {
     "name": "stdout",
     "output_type": "stream",
     "text": [
      "Extracting EDF parameters from C:\\Users\\Adrian\\Desktop\\Magisterka\\Badania\\22.05.2024\\EL\\Testdata.bdf...\n",
      "BDF file detected\n",
      "Setting channel info structure...\n",
      "Creating raw.info structure...\n",
      "Reading 0 ... 1783807  =      0.000 ...   871.000 secs...\n"
     ]
    },
    {
     "ename": "ValueError",
     "evalue": "tmax (1462) must be less than or equal to the max time (870.9995 s)",
     "output_type": "error",
     "traceback": [
      "\u001b[1;31m---------------------------------------------------------------------------\u001b[0m",
      "\u001b[1;31mValueError\u001b[0m                                Traceback (most recent call last)",
      "Cell \u001b[1;32mIn[2], line 4\u001b[0m\n\u001b[0;32m      2\u001b[0m raw \u001b[38;5;241m=\u001b[39m mne\u001b[38;5;241m.\u001b[39mio\u001b[38;5;241m.\u001b[39mread_raw_bdf(\u001b[38;5;124m'\u001b[39m\u001b[38;5;124mC:/Users/Adrian/Desktop/Magisterka/Badania/22.05.2024/EL/Testdata.bdf\u001b[39m\u001b[38;5;124m'\u001b[39m, preload\u001b[38;5;241m=\u001b[39m\u001b[38;5;28;01mTrue\u001b[39;00m)\n\u001b[0;32m      3\u001b[0m \u001b[38;5;66;03m# raw = mne.io.read_raw_bdf('experyment.bdf', preload=True)\u001b[39;00m\n\u001b[1;32m----> 4\u001b[0m \u001b[43mraw\u001b[49m\u001b[38;5;241;43m.\u001b[39;49m\u001b[43mcrop\u001b[49m\u001b[43m(\u001b[49m\u001b[43mtmin\u001b[49m\u001b[38;5;241;43m=\u001b[39;49m\u001b[38;5;241;43m12\u001b[39;49m\u001b[43m,\u001b[49m\u001b[43m \u001b[49m\u001b[43mtmax\u001b[49m\u001b[38;5;241;43m=\u001b[39;49m\u001b[38;5;241;43m1462\u001b[39;49m\u001b[43m)\u001b[49m\u001b[38;5;241m.\u001b[39mload_data()\n\u001b[0;32m      5\u001b[0m \u001b[38;5;66;03m# raw.plot_psd_topomap(ch_type='eeg',  # Specify channel type\u001b[39;00m\n\u001b[0;32m      6\u001b[0m \u001b[38;5;66;03m#                      average='mean')  # Specify time window for averaging\u001b[39;00m\n\u001b[0;32m      7\u001b[0m raw\u001b[38;5;241m.\u001b[39mfilter(\u001b[38;5;241m0.\u001b[39m, \u001b[38;5;241m45.\u001b[39m, fir_design\u001b[38;5;241m=\u001b[39m\u001b[38;5;124m'\u001b[39m\u001b[38;5;124mfirwin\u001b[39m\u001b[38;5;124m'\u001b[39m)\n",
      "File \u001b[1;32m<decorator-gen-193>:12\u001b[0m, in \u001b[0;36mcrop\u001b[1;34m(self, tmin, tmax, include_tmax, verbose)\u001b[0m\n",
      "File \u001b[1;32mc:\\Users\\Adrian\\Desktop\\mne\\.vis\\lib\\site-packages\\mne\\io\\base.py:1524\u001b[0m, in \u001b[0;36mBaseRaw.crop\u001b[1;34m(self, tmin, tmax, include_tmax, verbose)\u001b[0m\n\u001b[0;32m   1522\u001b[0m     \u001b[38;5;28;01mraise\u001b[39;00m \u001b[38;5;167;01mValueError\u001b[39;00m(\u001b[38;5;124mf\u001b[39m\u001b[38;5;124m\"\u001b[39m\u001b[38;5;124mtmin (\u001b[39m\u001b[38;5;132;01m{\u001b[39;00mtmin\u001b[38;5;132;01m}\u001b[39;00m\u001b[38;5;124m) must be >= 0\u001b[39m\u001b[38;5;124m\"\u001b[39m)\n\u001b[0;32m   1523\u001b[0m \u001b[38;5;28;01melif\u001b[39;00m tmax \u001b[38;5;241m-\u001b[39m \u001b[38;5;28mint\u001b[39m(\u001b[38;5;129;01mnot\u001b[39;00m include_tmax) \u001b[38;5;241m/\u001b[39m \u001b[38;5;28mself\u001b[39m\u001b[38;5;241m.\u001b[39minfo[\u001b[38;5;124m\"\u001b[39m\u001b[38;5;124msfreq\u001b[39m\u001b[38;5;124m\"\u001b[39m] \u001b[38;5;241m>\u001b[39m max_time:\n\u001b[1;32m-> 1524\u001b[0m     \u001b[38;5;28;01mraise\u001b[39;00m \u001b[38;5;167;01mValueError\u001b[39;00m(\n\u001b[0;32m   1525\u001b[0m         \u001b[38;5;124mf\u001b[39m\u001b[38;5;124m\"\u001b[39m\u001b[38;5;124mtmax (\u001b[39m\u001b[38;5;132;01m{\u001b[39;00mtmax\u001b[38;5;132;01m}\u001b[39;00m\u001b[38;5;124m) must be less than or equal to the max \u001b[39m\u001b[38;5;124m\"\u001b[39m\n\u001b[0;32m   1526\u001b[0m         \u001b[38;5;124mf\u001b[39m\u001b[38;5;124m\"\u001b[39m\u001b[38;5;124mtime (\u001b[39m\u001b[38;5;132;01m{\u001b[39;00mmax_time\u001b[38;5;132;01m:\u001b[39;00m\u001b[38;5;124m0.4f\u001b[39m\u001b[38;5;132;01m}\u001b[39;00m\u001b[38;5;124m s)\u001b[39m\u001b[38;5;124m\"\u001b[39m\n\u001b[0;32m   1527\u001b[0m     )\n\u001b[0;32m   1529\u001b[0m smin, smax \u001b[38;5;241m=\u001b[39m np\u001b[38;5;241m.\u001b[39mwhere(\n\u001b[0;32m   1530\u001b[0m     _time_mask(\n\u001b[0;32m   1531\u001b[0m         \u001b[38;5;28mself\u001b[39m\u001b[38;5;241m.\u001b[39mtimes,\n\u001b[1;32m   (...)\u001b[0m\n\u001b[0;32m   1536\u001b[0m     )\n\u001b[0;32m   1537\u001b[0m )[\u001b[38;5;241m0\u001b[39m][[\u001b[38;5;241m0\u001b[39m, \u001b[38;5;241m-\u001b[39m\u001b[38;5;241m1\u001b[39m]]\n\u001b[0;32m   1538\u001b[0m cumul_lens \u001b[38;5;241m=\u001b[39m np\u001b[38;5;241m.\u001b[39mconcatenate(([\u001b[38;5;241m0\u001b[39m], np\u001b[38;5;241m.\u001b[39marray(\u001b[38;5;28mself\u001b[39m\u001b[38;5;241m.\u001b[39m_raw_lengths, dtype\u001b[38;5;241m=\u001b[39m\u001b[38;5;124m\"\u001b[39m\u001b[38;5;124mint\u001b[39m\u001b[38;5;124m\"\u001b[39m)))\n",
      "\u001b[1;31mValueError\u001b[0m: tmax (1462) must be less than or equal to the max time (870.9995 s)"
     ]
    }
   ],
   "source": [
    "\n",
    "# Load EEG data from a file\n",
    "raw = mne.io.read_raw_bdf('C:/Users/Adrian/Desktop/Magisterka/Badania/22.05.2024/EL/Testdata.bdf', preload=True)\n",
    "# raw = mne.io.read_raw_bdf('experyment.bdf', preload=True)\n",
    "raw.crop(tmin=12, tmax=1462).load_data()\n",
    "# raw.plot_psd_topomap(ch_type='eeg',  # Specify channel type\n",
    "#                      average='mean')  # Specify time window for averaging\n",
    "raw.filter(0., 45., fir_design='firwin')\n",
    "# raw.describe()\n",
    "# Check the channel names and remove any unnecessary channels from the raw object\n",
    "raw.pick_channels(['A1', 'A2', 'A3', 'A4', 'A5', 'A6', 'A7', 'A8', 'A9', 'A10', 'A11', 'A12', 'A13', 'A14', 'A15', 'A16'])\n",
    "# Plot the raw EEG data\n",
    "raw.plot(block=True)\n",
    "# Creating channels dictionary\n",
    "channels_dict = {'A1' : 'Fp1',\n",
    "                 'A2' : 'Fp2',\n",
    "                 'A3' : 'F4',\n",
    "                 'A4' : 'Fz',\n",
    "                 'A5' : 'F3',\n",
    "                 'A6' : 'T7',\n",
    "                 'A7' : 'C3',\n",
    "                 'A8' : 'Cz',\n",
    "                 'A9' : 'C4',\n",
    "                 'A10' : 'T8',\n",
    "                 'A11' : 'P4',\n",
    "                 'A12' : 'Pz',\n",
    "                 'A13' : 'P3',\n",
    "                 'A14' : 'O1',\n",
    "                 'A15' : 'Oz',\n",
    "                 'A16' : 'O2',\n",
    "                 }\n",
    "\n",
    "# Renaming channels to match our setup\n",
    "raw.rename_channels(mapping=channels_dict) \n",
    "pos = raw.set_montage('biosemi16')  \n",
    "# raw.info['dig']  \n",
    "raw.info['ch_names']\n",
    "# raw.plot_sensors(show_names=True)\n",
    "spectrum = raw.compute_psd()\n",
    "spectrum.plot_topomap(cmap=('jet','True'), show_names=True)\n",
    "\n",
    "\n"
   ]
  },
  {
   "cell_type": "code",
   "execution_count": 53,
   "metadata": {},
   "outputs": [
    {
     "name": "stdout",
     "output_type": "stream",
     "text": [
      "Total duration: 1450.00\n"
     ]
    }
   ],
   "source": [
    "# Get the total duration in seconds\n",
    "duration = raw.times[-1]\n",
    "\n",
    "# Convert duration to a more readable format (hours, minutes, seconds)\n",
    "bdf_hours = int(duration // 3600)\n",
    "bdf_minutes = int((duration % 3600) // 60)\n",
    "bdf_seconds = duration % 60\n",
    "\n",
    "print(f\"Total duration: {bdf_hours*3600 + bdf_minutes*60 + bdf_seconds:.2f}\")"
   ]
  },
  {
   "cell_type": "code",
   "execution_count": 4,
   "metadata": {},
   "outputs": [
    {
     "data": {
      "text/html": [
       "<details open>\n",
       "    <summary><strong>General</strong></summary>\n",
       "    <table class=\"table table-hover table-striped table-sm table-responsive small\">\n",
       "        <tr>\n",
       "            <th>Measurement date</th>\n",
       "            \n",
       "            <td>May 22, 2024  11:32:31 GMT</td>\n",
       "            \n",
       "        </tr>\n",
       "        <tr>\n",
       "            <th>Experimenter</th>\n",
       "            \n",
       "            <td>Unknown</td>\n",
       "            \n",
       "        </tr>\n",
       "        <tr>\n",
       "            <th>Participant</th>\n",
       "            \n",
       "            \n",
       "            <td></td>\n",
       "            \n",
       "            \n",
       "        </tr>\n",
       "    </table>\n",
       "    </details>\n",
       "    <details open>\n",
       "        <summary><strong>Channels</strong></summary>\n",
       "        <table class=\"table table-hover table-striped table-sm table-responsive small\">\n",
       "            <tr>\n",
       "                <th>Digitized points</th>\n",
       "                \n",
       "                <td>19 points</td>\n",
       "                \n",
       "            </tr>\n",
       "            <tr>\n",
       "                <th>Good channels</th>\n",
       "                <td>16 EEG</td>\n",
       "            </tr>\n",
       "            <tr>\n",
       "                <th>Bad channels</th>\n",
       "                <td>None</td>\n",
       "            </tr>\n",
       "            <tr>\n",
       "                <th>EOG channels</th>\n",
       "                <td>Not available</td>\n",
       "            </tr>\n",
       "            <tr>\n",
       "                <th>ECG channels</th>\n",
       "                <td>Not available</td>\n",
       "            </tr>\n",
       "        </table>\n",
       "        </details>\n",
       "        <details open>\n",
       "            <summary><strong>Data</strong></summary>\n",
       "            <table class=\"table table-hover table-striped table-sm table-responsive small\">\n",
       "                \n",
       "                <tr>\n",
       "                    <th>Sampling frequency</th>\n",
       "                    <td>2048.00 Hz</td>\n",
       "                </tr>\n",
       "                \n",
       "                \n",
       "                <tr>\n",
       "                    <th>Highpass</th>\n",
       "                    <td>0.00 Hz</td>\n",
       "                </tr>\n",
       "                \n",
       "                \n",
       "                <tr>\n",
       "                    <th>Lowpass</th>\n",
       "                    <td>417.00 Hz</td>\n",
       "                </tr>\n",
       "                \n",
       "                \n",
       "                \n",
       "                \n",
       "            </table>\n",
       "            </details>"
      ],
      "text/plain": [
       "<Info | 9 non-empty values\n",
       " bads: []\n",
       " ch_names: Fp1, Fp2, F4, Fz, F3, T7, C3, Cz, C4, T8, P4, Pz, P3, O1, Oz, O2\n",
       " chs: 16 EEG\n",
       " custom_ref_applied: False\n",
       " dig: 19 items (3 Cardinal, 16 EEG)\n",
       " highpass: 0.0 Hz\n",
       " lowpass: 417.0 Hz\n",
       " meas_date: 2024-05-22 11:32:31 UTC\n",
       " nchan: 16\n",
       " projs: []\n",
       " sfreq: 2048.0 Hz\n",
       " subject_info: 1 item (dict)\n",
       ">"
      ]
     },
     "execution_count": 4,
     "metadata": {},
     "output_type": "execute_result"
    }
   ],
   "source": [
    "raw.info"
   ]
  },
  {
   "cell_type": "code",
   "execution_count": 5,
   "metadata": {},
   "outputs": [
    {
     "name": "stdout",
     "output_type": "stream",
     "text": [
      "2024-05-22 11:32:31+00:00\n"
     ]
    }
   ],
   "source": [
    "print(raw.info['meas_date'])"
   ]
  },
  {
   "cell_type": "code",
   "execution_count": 47,
   "metadata": {},
   "outputs": [
    {
     "name": "stdout",
     "output_type": "stream",
     "text": [
      "11:32:31\n"
     ]
    }
   ],
   "source": [
    "# Directly use the time() method if meas_date is already a datetime object\n",
    "time_part = raw.info['meas_date'].time()\n",
    "\n",
    "# Print the time part\n",
    "print(time_part)\n",
    "\n"
   ]
  },
  {
   "cell_type": "code",
   "execution_count": 29,
   "metadata": {},
   "outputs": [],
   "source": [
    "average_signal = np.mean(raw._data, axis=1)"
   ]
  },
  {
   "cell_type": "code",
   "execution_count": 30,
   "metadata": {},
   "outputs": [
    {
     "data": {
      "image/png": "[encoded data removed]",
      "text/plain": [
       "<Figure size 300x300 with 1 Axes>"
      ]
     },
     "metadata": {},
     "output_type": "display_data"
    }
   ],
   "source": [
    "im, _ = mne.viz.plot_topomap(average_signal, raw.info, ch_type='eeg', sensors=True, cmap='jet', res=64, size=3)"
   ]
  },
  {
   "cell_type": "code",
   "execution_count": 17,
   "metadata": {},
   "outputs": [
    {
     "name": "stdout",
     "output_type": "stream",
     "text": [
      "(16, 4057088)\n"
     ]
    }
   ],
   "source": [
    "print(raw._data.shape)"
   ]
  },
  {
   "cell_type": "markdown",
   "metadata": {},
   "source": [
    "# to samo tylko z automatycznym odczytem przedzialow czasowych"
   ]
  },
  {
   "cell_type": "markdown",
   "metadata": {},
   "source": [
    "# Dla przedziałów takich jak w wozku"
   ]
  },
  {
   "cell_type": "code",
   "execution_count": 3,
   "metadata": {},
   "outputs": [
    {
     "ename": "FileNotFoundError",
     "evalue": "[Errno 2] No such file or directory: 'C:/Users/Adrian/Desktop/logi/2024-04-25_10-17-09.log'",
     "output_type": "error",
     "traceback": [
      "\u001b[1;31m---------------------------------------------------------------------------\u001b[0m",
      "\u001b[1;31mFileNotFoundError\u001b[0m                         Traceback (most recent call last)",
      "Cell \u001b[1;32mIn[3], line 8\u001b[0m\n\u001b[0;32m      5\u001b[0m log_file_path \u001b[38;5;241m=\u001b[39m \u001b[38;5;124m'\u001b[39m\u001b[38;5;124mC:/Users/Adrian/Desktop/logi/2024-04-25_10-17-09.log\u001b[39m\u001b[38;5;124m'\u001b[39m\n\u001b[0;32m      7\u001b[0m \u001b[38;5;66;03m# Read the content of the log file\u001b[39;00m\n\u001b[1;32m----> 8\u001b[0m \u001b[38;5;28;01mwith\u001b[39;00m \u001b[38;5;28;43mopen\u001b[39;49m\u001b[43m(\u001b[49m\u001b[43mlog_file_path\u001b[49m\u001b[43m,\u001b[49m\u001b[43m \u001b[49m\u001b[38;5;124;43m'\u001b[39;49m\u001b[38;5;124;43mr\u001b[39;49m\u001b[38;5;124;43m'\u001b[39;49m\u001b[43m)\u001b[49m \u001b[38;5;28;01mas\u001b[39;00m file:\n\u001b[0;32m      9\u001b[0m     log_file_content \u001b[38;5;241m=\u001b[39m file\u001b[38;5;241m.\u001b[39mread()\n\u001b[0;32m     11\u001b[0m \u001b[38;5;66;03m# Compile a regular expression to find the relevant lines\u001b[39;00m\n",
      "File \u001b[1;32mc:\\Users\\Adrian\\Desktop\\mne\\.vis\\lib\\site-packages\\IPython\\core\\interactiveshell.py:324\u001b[0m, in \u001b[0;36m_modified_open\u001b[1;34m(file, *args, **kwargs)\u001b[0m\n\u001b[0;32m    317\u001b[0m \u001b[38;5;28;01mif\u001b[39;00m file \u001b[38;5;129;01min\u001b[39;00m {\u001b[38;5;241m0\u001b[39m, \u001b[38;5;241m1\u001b[39m, \u001b[38;5;241m2\u001b[39m}:\n\u001b[0;32m    318\u001b[0m     \u001b[38;5;28;01mraise\u001b[39;00m \u001b[38;5;167;01mValueError\u001b[39;00m(\n\u001b[0;32m    319\u001b[0m         \u001b[38;5;124mf\u001b[39m\u001b[38;5;124m\"\u001b[39m\u001b[38;5;124mIPython won\u001b[39m\u001b[38;5;124m'\u001b[39m\u001b[38;5;124mt let you open fd=\u001b[39m\u001b[38;5;132;01m{\u001b[39;00mfile\u001b[38;5;132;01m}\u001b[39;00m\u001b[38;5;124m by default \u001b[39m\u001b[38;5;124m\"\u001b[39m\n\u001b[0;32m    320\u001b[0m         \u001b[38;5;124m\"\u001b[39m\u001b[38;5;124mas it is likely to crash IPython. If you know what you are doing, \u001b[39m\u001b[38;5;124m\"\u001b[39m\n\u001b[0;32m    321\u001b[0m         \u001b[38;5;124m\"\u001b[39m\u001b[38;5;124myou can use builtins\u001b[39m\u001b[38;5;124m'\u001b[39m\u001b[38;5;124m open.\u001b[39m\u001b[38;5;124m\"\u001b[39m\n\u001b[0;32m    322\u001b[0m     )\n\u001b[1;32m--> 324\u001b[0m \u001b[38;5;28;01mreturn\u001b[39;00m io_open(file, \u001b[38;5;241m*\u001b[39margs, \u001b[38;5;241m*\u001b[39m\u001b[38;5;241m*\u001b[39mkwargs)\n",
      "\u001b[1;31mFileNotFoundError\u001b[0m: [Errno 2] No such file or directory: 'C:/Users/Adrian/Desktop/logi/2024-04-25_10-17-09.log'"
     ]
    }
   ],
   "source": [
    "import re\n",
    "from datetime import datetime, timedelta\n",
    "\n",
    "# Path to the log file\n",
    "log_file_path = 'C:/Users/Adrian/Desktop/logi/2024-04-25_10-17-09.log'\n",
    "\n",
    "# Read the content of the log file\n",
    "with open(log_file_path, 'r') as file:\n",
    "    log_file_content = file.read()\n",
    "\n",
    "# Compile a regular expression to find the relevant lines\n",
    "pattern = re.compile(r'(\\d{4}-\\d{2}-\\d{2} (\\d{2}:\\d{2}:\\d{2})) - CRITICAL - Pressed Key\\.(f1|f6|f7)')\n",
    "\n",
    "# Find all matches in the log file content\n",
    "matches = pattern.findall(log_file_content)\n",
    "\n",
    "# Initialize dictionaries to hold start and stop times\n",
    "start_times = {}\n",
    "flag_intervals = []\n",
    "base_time = None\n",
    "\n",
    "# Function to convert time to seconds\n",
    "def time_to_seconds(time_str):\n",
    "    h, m, s = map(int, time_str.split(':'))\n",
    "    return h * 3600 + m * 60 + s\n",
    "\n",
    "# Process the matches\n",
    "for match in matches:\n",
    "    full_timestamp, time_only, flag = match\n",
    "    if flag == 'f1' and base_time is None:\n",
    "        base_time = time_to_seconds(time_only)\n",
    "        start_times[flag] = 0\n",
    "        continue\n",
    "    \n",
    "    current_time_in_seconds = time_to_seconds(time_only)\n",
    "    relative_time = current_time_in_seconds - base_time\n",
    "    \n",
    "    if flag not in start_times:\n",
    "        start_times[flag] = relative_time\n",
    "    else:\n",
    "        stop_time = relative_time\n",
    "        flag_intervals.append((start_times[flag], stop_time, flag))\n",
    "        del start_times[flag]\n",
    "\n",
    "# Output the list of tuples\n",
    "for interval in flag_intervals:\n",
    "    print(interval)\n"
   ]
  },
  {
   "cell_type": "markdown",
   "metadata": {},
   "source": [
    "# Test dla przedziałów z pierwszego testu TK,MM,EL"
   ]
  },
  {
   "cell_type": "code",
   "execution_count": 27,
   "metadata": {},
   "outputs": [
    {
     "name": "stdout",
     "output_type": "stream",
     "text": [
      "(0.0, 224.0, 'F1', 'F3')\n",
      "(256.0, 456.0, 'F4', 'F6')\n",
      "(456.0, 608.0, 'F6', 'F6')\n",
      "(608.0, 889.0, 'F6', 'F6')\n",
      "(889.0, 1158.0, 'F6', 'F7')\n",
      "(1178.0, 1577.0, 'F8', 'F6')\n",
      "(1577.0, 1962.0, 'F6', 'F1')\n",
      "F1 flag starting time: 10:34:42\n",
      "Total duration from F1 start to last event: 1962 seconds\n"
     ]
    }
   ],
   "source": [
    "import re\n",
    "from datetime import datetime\n",
    "\n",
    "def extract_flag_intervals(log_file):\n",
    "    with open(log_file, 'r') as file:\n",
    "        lines = file.readlines()\n",
    "\n",
    "    flag_intervals = []\n",
    "    current_flag = None\n",
    "    start_time = None\n",
    "    f1_base_time = None\n",
    "    last_event_time = None\n",
    "\n",
    "    flag_mapping = {\n",
    "        \"Key.f1\": \"F1\",\n",
    "        \"Key.f3\": \"F3\",\n",
    "        \"Key.f4\": \"F4\",\n",
    "        \"Key.f6\": \"F6\",\n",
    "        \"Key.f7\": \"F7\",\n",
    "        \"Key.f8\": \"F8\"\n",
    "    }\n",
    "\n",
    "    time_pattern = re.compile(r'(\\d{4}-\\d{2}-\\d{2} \\d{2}:\\d{2}:\\d{2})')\n",
    "    flag_pattern = re.compile(r'CRITICAL - Pressed (\\w+\\.\\w+)')\n",
    "\n",
    "    def time_to_seconds(time_str):\n",
    "        time_format = \"%Y-%m-%d %H:%M:%S\"\n",
    "        dt = datetime.strptime(time_str, time_format)\n",
    "        if f1_base_time is None:\n",
    "            return 0\n",
    "        delta = dt - f1_base_time\n",
    "        return delta.total_seconds()\n",
    "\n",
    "    for line in lines:\n",
    "        time_match = time_pattern.search(line)\n",
    "        flag_match = flag_pattern.search(line)\n",
    "\n",
    "        if time_match and flag_match:\n",
    "            timestamp = time_match.group(1)\n",
    "            flag_key = flag_match.group(1)\n",
    "\n",
    "            if flag_key in flag_mapping:\n",
    "                dt_timestamp = datetime.strptime(timestamp, \"%Y-%m-%d %H:%M:%S\")\n",
    "\n",
    "                if flag_mapping[flag_key] == \"F1\" and f1_base_time is None:\n",
    "                    f1_base_time = dt_timestamp\n",
    "\n",
    "                if current_flag is None:\n",
    "                    current_flag = flag_mapping[flag_key]\n",
    "                    start_time = timestamp\n",
    "                else:\n",
    "                    end_flag = flag_mapping[flag_key]\n",
    "                    if not ((current_flag == \"F3\" and end_flag == \"F4\") or \n",
    "                            (current_flag == \"F7\" and end_flag == \"F8\")):\n",
    "                        flag_intervals.append((time_to_seconds(start_time), time_to_seconds(timestamp), current_flag, end_flag))\n",
    "                    current_flag = flag_mapping[flag_key]\n",
    "                    start_time = timestamp\n",
    "\n",
    "                last_event_time = dt_timestamp\n",
    "\n",
    "    total_duration_seconds = None\n",
    "    if f1_base_time and last_event_time:\n",
    "        total_duration_seconds = int((last_event_time - f1_base_time).total_seconds())\n",
    "\n",
    "    return flag_intervals, f1_base_time, total_duration_seconds\n",
    "\n",
    "# Main function to execute the script\n",
    "if __name__ == \"__main__\":\n",
    "    log_file = 'C:/Users/Adrian/Desktop/Magisterka/Badania/22.05.2024/TK/2024-05-22_10-16-19.log'\n",
    "    flag_intervals, f1_base_time, total_duration_seconds = extract_flag_intervals(log_file)\n",
    "    \n",
    "    for interval in flag_intervals:\n",
    "        print(interval)\n",
    "    \n",
    "    if f1_base_time:\n",
    "        f1_starting_time = f1_base_time.strftime('%H:%M:%S')\n",
    "        print(f\"F1 flag starting time: {f1_starting_time}\")\n",
    "    \n",
    "    if total_duration_seconds is not None:\n",
    "        print(f\"Total duration from F1 start to last event: {total_duration_seconds} seconds\")\n"
   ]
  },
  {
   "cell_type": "code",
   "execution_count": 28,
   "metadata": {},
   "outputs": [
    {
     "name": "stdout",
     "output_type": "stream",
     "text": [
      "Extracting EDF parameters from C:\\Users\\Adrian\\Desktop\\Magisterka\\Badania\\22.05.2024\\TK\\Testdata(poprawione).bdf...\n",
      "BDF file detected\n",
      "Setting channel info structure...\n",
      "Creating raw.info structure...\n",
      "Reading 0 ... 4057087  =      0.000 ...  1981.000 secs...\n"
     ]
    }
   ],
   "source": [
    "import numpy as np\n",
    "import mne\n",
    "import matplotlib as plt\n",
    "\n",
    "# Load EEG data from a file (.bdf)\n",
    "bdf_file_path = 'C:/Users/Adrian/Desktop/Magisterka/Badania/22.05.2024/TK/Testdata(poprawione).bdf'\n",
    "raw = mne.io.read_raw_bdf(bdf_file_path, preload=True)\n",
    "# raw.load_data()"
   ]
  },
  {
   "cell_type": "code",
   "execution_count": 29,
   "metadata": {},
   "outputs": [
    {
     "name": "stdout",
     "output_type": "stream",
     "text": [
      "Synchronized start time: 10:34:42\n",
      "Synchronized end time: 11:07:24\n",
      "Cut 2 seconds from the start of the second log.\n",
      "Cut 16.99951171875 seconds from the end of the second log.\n"
     ]
    }
   ],
   "source": [
    "from datetime import datetime, timedelta\n",
    "\n",
    "# Function to convert time string to seconds since start of the day\n",
    "def time_to_seconds(time_str):\n",
    "    t = datetime.strptime(time_str, '%H:%M:%S')\n",
    "    return t.hour * 3600 + t.minute * 60 + t.second\n",
    "\n",
    "# Function to convert seconds since start of the day to time string\n",
    "def seconds_to_time(seconds):\n",
    "    return str(timedelta(seconds=seconds))\n",
    "\n",
    "# Provided log details for log1\n",
    "log1_start_time = f1_starting_time\n",
    "log1_duration = total_duration_seconds  # in seconds\n",
    "log1_start_seconds = time_to_seconds(log1_start_time)\n",
    "log1_end_seconds = log1_start_seconds + log1_duration\n",
    "\n",
    "# Provided log details for log2\n",
    "bdf_start_time = raw.info['meas_date'].time().strftime(\"%H:%M:%S\")\n",
    "bdf_duration = raw.times[-1]  # in seconds\n",
    "bdf_start_seconds = time_to_seconds(bdf_start_time)\n",
    "bdf_end_seconds = bdf_start_seconds + bdf_duration\n",
    "\n",
    "# Initialize variables to hold the synchronized times\n",
    "sync_start_seconds = 0\n",
    "sync_end_seconds = 0\n",
    "cut_from_start = 0\n",
    "cut_from_end = 0\n",
    "\n",
    "# Determine the appropriate case and adjust times accordingly\n",
    "if bdf_start_seconds <= log1_start_seconds:\n",
    "    if bdf_end_seconds <= log1_end_seconds:\n",
    "        # log2 starts before or at the same time and ends before or at the same time\n",
    "        sync_start_seconds = log1_start_seconds\n",
    "        sync_end_seconds = log1_end_seconds\n",
    "        cut_from_start = log1_start_seconds - bdf_start_seconds\n",
    "        cut_from_end = bdf_end_seconds - log1_end_seconds\n",
    "    else:\n",
    "        # log2 starts before or at the same time and ends after log1\n",
    "        sync_start_seconds = log1_start_seconds\n",
    "        sync_end_seconds = log1_end_seconds\n",
    "        cut_from_start = log1_start_seconds - bdf_start_seconds\n",
    "        cut_from_end = bdf_end_seconds - log1_end_seconds\n",
    "else:\n",
    "    if bdf_end_seconds >= log1_end_seconds:\n",
    "        # log2 starts after or at the same time and ends after or at the same time\n",
    "        sync_start_seconds = bdf_start_seconds\n",
    "        sync_end_seconds = bdf_start_seconds + log1_duration\n",
    "        cut_from_end = bdf_end_seconds - sync_end_seconds\n",
    "    else:\n",
    "        # log2 starts after or at the same time and ends before log1\n",
    "        sync_start_seconds = bdf_start_seconds\n",
    "        sync_end_seconds = bdf_start_seconds + log1_duration\n",
    "        cut_from_end = bdf_end_seconds - sync_end_seconds\n",
    "\n",
    "# Convert synchronized times back to time strings\n",
    "sync_start_time = seconds_to_time(sync_start_seconds)\n",
    "sync_end_time = seconds_to_time(sync_end_seconds)\n",
    "\n",
    "print(f\"Synchronized start time: {sync_start_time}\")\n",
    "print(f\"Synchronized end time: {sync_end_time}\")\n",
    "print(f\"Cut {cut_from_start} seconds from the start of the second log.\")\n",
    "print(f\"Cut {cut_from_end} seconds from the end of the second log.\")\n",
    "\n",
    "tmin=cut_from_start\n",
    "tmax=cut_from_end\n"
   ]
  },
  {
   "cell_type": "code",
   "execution_count": 30,
   "metadata": {},
   "outputs": [
    {
     "data": {
      "text/html": [
       "<details open>\n",
       "    <summary><strong>General</strong></summary>\n",
       "    <table class=\"table table-hover table-striped table-sm table-responsive small\">\n",
       "        <tr>\n",
       "            <th>Measurement date</th>\n",
       "            \n",
       "            <td>May 22, 2024  10:34:40 GMT</td>\n",
       "            \n",
       "        </tr>\n",
       "        <tr>\n",
       "            <th>Experimenter</th>\n",
       "            \n",
       "            <td>Unknown</td>\n",
       "            \n",
       "        </tr>\n",
       "        <tr>\n",
       "            <th>Participant</th>\n",
       "            \n",
       "            \n",
       "            <td></td>\n",
       "            \n",
       "            \n",
       "        </tr>\n",
       "    </table>\n",
       "    </details>\n",
       "    <details open>\n",
       "        <summary><strong>Channels</strong></summary>\n",
       "        <table class=\"table table-hover table-striped table-sm table-responsive small\">\n",
       "            <tr>\n",
       "                <th>Digitized points</th>\n",
       "                \n",
       "                <td>Not available</td>\n",
       "                \n",
       "            </tr>\n",
       "            <tr>\n",
       "                <th>Good channels</th>\n",
       "                <td>16 EEG, 1 Stimulus</td>\n",
       "            </tr>\n",
       "            <tr>\n",
       "                <th>Bad channels</th>\n",
       "                <td>None</td>\n",
       "            </tr>\n",
       "            <tr>\n",
       "                <th>EOG channels</th>\n",
       "                <td>Not available</td>\n",
       "            </tr>\n",
       "            <tr>\n",
       "                <th>ECG channels</th>\n",
       "                <td>Not available</td>\n",
       "            </tr>\n",
       "        </table>\n",
       "        </details>\n",
       "        <details open>\n",
       "            <summary><strong>Data</strong></summary>\n",
       "            <table class=\"table table-hover table-striped table-sm table-responsive small\">\n",
       "                \n",
       "                <tr>\n",
       "                    <th>Sampling frequency</th>\n",
       "                    <td>2048.00 Hz</td>\n",
       "                </tr>\n",
       "                \n",
       "                \n",
       "                <tr>\n",
       "                    <th>Highpass</th>\n",
       "                    <td>0.00 Hz</td>\n",
       "                </tr>\n",
       "                \n",
       "                \n",
       "                <tr>\n",
       "                    <th>Lowpass</th>\n",
       "                    <td>417.00 Hz</td>\n",
       "                </tr>\n",
       "                \n",
       "                \n",
       "                \n",
       "                <tr>\n",
       "                    <th>Filenames</th>\n",
       "                    <td>Testdata(poprawione).bdf</td>\n",
       "                </tr>\n",
       "                \n",
       "                \n",
       "                <tr>\n",
       "                    <th>Duration</th>\n",
       "                    <td>00:32:42 (HH:MM:SS)</td>\n",
       "                </tr>\n",
       "                \n",
       "            </table>\n",
       "            </details>"
      ],
      "text/plain": [
       "<RawEDF | Testdata(poprawione).bdf, 17 x 4018177 (1962.0 s), ~521.2 MB, data loaded>"
      ]
     },
     "execution_count": 30,
     "metadata": {},
     "output_type": "execute_result"
    }
   ],
   "source": [
    "raw.crop(tmin=cut_from_start, tmax=(bdf_duration - cut_from_end))"
   ]
  },
  {
   "cell_type": "code",
   "execution_count": 31,
   "metadata": {},
   "outputs": [
    {
     "name": "stdout",
     "output_type": "stream",
     "text": [
      "Filtering raw data in 1 contiguous segment\n"
     ]
    },
    {
     "name": "stdout",
     "output_type": "stream",
     "text": [
      "Setting up low-pass filter at 45 Hz\n",
      "\n",
      "FIR filter parameters\n",
      "---------------------\n",
      "Designing a one-pass, zero-phase, non-causal lowpass filter:\n",
      "- Windowed time-domain design (firwin) method\n",
      "- Hamming window with 0.0194 passband ripple and 53 dB stopband attenuation\n",
      "- Upper passband edge: 45.00 Hz\n",
      "- Upper transition bandwidth: 11.25 Hz (-6 dB cutoff frequency: 50.62 Hz)\n",
      "- Filter length: 601 samples (0.293 s)\n",
      "\n",
      "<RawEDF | Testdata(poprawione).bdf, 17 x 4018177 (1962.0 s), ~521.2 MB, data loaded>\n",
      "ch  name    type  unit        min         Q1     median         Q3        max\n",
      " 0  A1      EEG   µV     -7381.78   -4785.51   -4198.16   -3132.00   -2296.75\n",
      " 1  A2      EEG   µV    -16123.71  -12953.59  -10733.14   -8947.61   -7446.75\n",
      " 2  A3      EEG   µV    -14513.72  -12318.55   -9177.22   -6378.06   -4379.21\n",
      " 3  A4      EEG   µV     -2467.65     915.66    3473.59    5030.17    5786.75\n",
      " 4  A5      EEG   µV     -9937.12   -7971.24   -5374.49   -3310.94   -1854.74\n",
      " 5  A6      EEG   µV     -5019.55   -2724.90    -359.61    1395.75    2606.94\n",
      " 6  A7      EEG   µV     -9556.20   -8921.38   -7289.39   -5524.42   -3894.80\n",
      " 7  A8      EEG   µV      -859.26    1856.12    4384.68    6001.64    6827.46\n",
      " 8  A9      EEG   µV    -14717.88  -10210.60   -6396.97   -3643.99   -1597.15\n",
      " 9  A10     EEG   µV     -4327.87   -2223.73    -316.82    1154.48    2386.17\n",
      "10  A11     EEG   µV     -6531.97   -2958.45     359.26    3042.93    4810.85\n",
      "11  A12     EEG   µV     -2668.32   -2406.41   -2077.97   -1209.75    -350.90\n",
      "12  A13     EEG   µV     -8560.11   -5040.94   -1030.74    2061.61    4006.04\n",
      "13  A14     EEG   µV      3507.23    4337.62    5840.63    7308.95    8342.48\n",
      "14  A15     EEG   µV      3574.92    5094.64    7108.63    8899.14    9948.05\n",
      "15  A16     EEG   µV      -580.91     809.94    3019.68    5334.19    7134.29\n",
      "16  Status  STIM  NA       255.00     255.00     255.00     255.00     255.00\n",
      "NOTE: pick_channels() is a legacy function. New code should use inst.pick(...).\n",
      "Effective window size : 1.000 (s)\n"
     ]
    },
    {
     "ename": "AttributeError",
     "evalue": "'Spectrum' object has no attribute 'plot_psd'",
     "output_type": "error",
     "traceback": [
      "\u001b[1;31m---------------------------------------------------------------------------\u001b[0m",
      "\u001b[1;31mAttributeError\u001b[0m                            Traceback (most recent call last)",
      "Cell \u001b[1;32mIn[31], line 40\u001b[0m\n\u001b[0;32m     38\u001b[0m przedzial_spectrum \u001b[38;5;241m=\u001b[39m przedzial\u001b[38;5;241m.\u001b[39mcompute_psd()\n\u001b[0;32m     39\u001b[0m \u001b[38;5;66;03m# przedzial_spectrum_plot = przedzial.compute_psd().plot(average=True, picks=\"all\")\u001b[39;00m\n\u001b[1;32m---> 40\u001b[0m \u001b[43mprzedzial_spectrum\u001b[49m\u001b[38;5;241;43m.\u001b[39;49m\u001b[43mplot_psd\u001b[49m()\n\u001b[0;32m     41\u001b[0m img \u001b[38;5;241m=\u001b[39m przedzial_spectrum\u001b[38;5;241m.\u001b[39mplot_topomap(cmap\u001b[38;5;241m=\u001b[39m(\u001b[38;5;124m'\u001b[39m\u001b[38;5;124mjet\u001b[39m\u001b[38;5;124m'\u001b[39m,\u001b[38;5;124m'\u001b[39m\u001b[38;5;124mTrue\u001b[39m\u001b[38;5;124m'\u001b[39m), show_names\u001b[38;5;241m=\u001b[39m\u001b[38;5;28;01mTrue\u001b[39;00m, vlim\u001b[38;5;241m=\u001b[39m(\u001b[38;5;241m0\u001b[39m, \u001b[38;5;241m300\u001b[39m))\n\u001b[0;32m     42\u001b[0m img\u001b[38;5;241m.\u001b[39mset_figwidth(\u001b[38;5;241m80\u001b[39m)\n",
      "\u001b[1;31mAttributeError\u001b[0m: 'Spectrum' object has no attribute 'plot_psd'"
     ]
    }
   ],
   "source": [
    "raw.filter(0., 45., fir_design='firwin')\n",
    "raw.describe()\n",
    "raw.pick_channels(['A1', 'A2', 'A3', 'A4', 'A5', 'A6', 'A7', 'A8', 'A9', 'A10', 'A11', 'A12', 'A13', 'A14', 'A15', 'A16'])\n",
    "# Channel names dict to match predefined layout\n",
    "channels_dict = {'A1' : 'Fp1',\n",
    "                 'A2' : 'Fp2',\n",
    "                 'A3' : 'F4',\n",
    "                 'A4' : 'Fz',\n",
    "                 'A5' : 'F3',\n",
    "                 'A6' : 'T7',\n",
    "                 'A7' : 'C3',\n",
    "                 'A8' : 'Cz',\n",
    "                 'A9' : 'C4',\n",
    "                 'A10' : 'T8',\n",
    "                 'A11' : 'P4',\n",
    "                 'A12' : 'Pz',\n",
    "                 'A13' : 'P3',\n",
    "                 'A14' : 'O1',\n",
    "                 'A15' : 'Oz',\n",
    "                 'A16' : 'O2',\n",
    "                 }\n",
    "\n",
    "# Renaming channels\n",
    "raw.rename_channels(mapping=channels_dict) \n",
    "raw.set_montage('biosemi16')  \n",
    "# raw.info['dig']  \n",
    "raw.info['ch_names']\n",
    "# raw.plot_sensors(show_names=True)\n",
    "\n",
    "plt.rcParams.update({'font.size': 10})\n",
    "\n",
    "for interval in flag_intervals:\n",
    "    tmin = interval[0]\n",
    "    tmax = interval[1]\n",
    "    raw_copy = raw.copy()\n",
    "    przedzial = raw_copy\n",
    "    przedzial = przedzial.crop(tmin=tmin, tmax=tmax)\n",
    "    przedzial_spectrum = przedzial.compute_psd()\n",
    "    # przedzial_spectrum_plot = przedzial.compute_psd().plot(average=True, picks=\"all\")\n",
    "    przedzial.plot_psd()\n",
    "    img = przedzial_spectrum.plot_topomap(cmap=('jet','True'), show_names=True, vlim=(0, 300))\n",
    "    img.set_figwidth(80)\n",
    "    img.set_figheight(50)\n",
    "    img.savefig(f'part_{tmin}_{tmax}_{interval[2]}.png')"
   ]
  },
  {
   "cell_type": "code",
   "execution_count": 25,
   "metadata": {},
   "outputs": [
    {
     "name": "stdout",
     "output_type": "stream",
     "text": [
      "Shape of raw data: (16, 4018177)\n",
      "Shape of subset data: (1, 30720)\n"
     ]
    },
    {
     "data": {
      "image/png": "[encoded data removed]",
      "text/plain": [
       "<Figure size 500x500 with 2 Axes>"
      ]
     },
     "metadata": {},
     "output_type": "display_data"
    }
   ],
   "source": [
    "from pyts.image import MarkovTransitionField\n",
    "import matplotlib.pyplot as plt\n",
    "\n",
    "# Load the BDF file\n",
    "new_raw = raw\n",
    "\n",
    "# Extract the data and sampling rate\n",
    "data, sfreq = new_raw.get_data(return_times=False), new_raw.info['sfreq']\n",
    "print(f\"Shape of raw data: {data.shape}\")\n",
    "\n",
    "# Define the start and end times for the segment you want to extract (in seconds)\n",
    "t_start = 610  # Start time in seconds\n",
    "t_end = 625   # End time in seconds\n",
    "# t_start = 10  # Start time in seconds\n",
    "# t_end = 25   # End time in seconds\n",
    "# t_start = 690  # Start time in seconds\n",
    "# t_end = 705   # End time in seconds\n",
    "\n",
    "# Convert times to sample indices\n",
    "start_sample = int(t_start * sfreq)\n",
    "end_sample = int(t_end * sfreq)\n",
    "\n",
    "# Extract the segment for the first channel\n",
    "subset_data = data[0, start_sample:end_sample].reshape(1, -1)\n",
    "print(f\"Shape of subset data: {subset_data.shape}\")\n",
    "\n",
    "# Transform the segment into MTF\n",
    "image_size = 24  # Example image size\n",
    "mtf = MarkovTransitionField(image_size=image_size)\n",
    "\n",
    "# Apply MTF transformation\n",
    "mtf_image = mtf.fit_transform(subset_data)[0]\n",
    "\n",
    "# Visualize the MTF\n",
    "plt.figure(figsize=(5, 5))\n",
    "plt.imshow(mtf_image, cmap='rainbow', origin='lower')\n",
    "plt.title(f\"Markov Transition Field bridge\")\n",
    "plt.colorbar()\n",
    "plt.show()\n"
   ]
  },
  {
   "cell_type": "code",
   "execution_count": 26,
   "metadata": {},
   "outputs": [
    {
     "data": {
      "image/png": "[encoded data removed]",
      "text/plain": [
       "<Figure size 600x574.468 with 4 Axes>"
      ]
     },
     "metadata": {},
     "output_type": "display_data"
    }
   ],
   "source": [
    "import numpy as np\n",
    "import matplotlib.pyplot as plt\n",
    "from pyts.image import MarkovTransitionField\n",
    "\n",
    "\n",
    "# Create a toy time series using the sine function\n",
    "time_points = np.linspace(0, 4 * np.pi, 1000)\n",
    "x = np.sin(time_points)\n",
    "X = np.array([x])\n",
    "\n",
    "# Compute Gramian angular fields\n",
    "mtf = MarkovTransitionField(n_bins=8)\n",
    "X_mtf = mtf.fit_transform(X)\n",
    "\n",
    "# Plot the time series and its Markov transition field\n",
    "width_ratios = (2, 7, 0.4)\n",
    "height_ratios = (2, 7)\n",
    "width = 6\n",
    "height = width * sum(height_ratios) / sum(width_ratios)\n",
    "fig = plt.figure(figsize=(width, height))\n",
    "gs = fig.add_gridspec(2, 3,  width_ratios=width_ratios,\n",
    "                      height_ratios=height_ratios,\n",
    "                      left=0.1, right=0.9, bottom=0.1, top=0.9,\n",
    "                      wspace=0.05, hspace=0.05)\n",
    "\n",
    "# Define the ticks and their labels for both axes\n",
    "time_ticks = np.linspace(0, 4 * np.pi, 9)\n",
    "time_ticklabels = [r'$0$', r'$\\frac{\\pi}{2}$', r'$\\pi$',\n",
    "                   r'$\\frac{3\\pi}{2}$', r'$2\\pi$', r'$\\frac{5\\pi}{2}$',\n",
    "                   r'$3\\pi$', r'$\\frac{7\\pi}{2}$', r'$4\\pi$']\n",
    "value_ticks = [-1, 0, 1]\n",
    "reversed_value_ticks = value_ticks[::-1]\n",
    "\n",
    "# Plot the time series on the left with inverted axes\n",
    "ax_left = fig.add_subplot(gs[1, 0])\n",
    "ax_left.plot(x, time_points)\n",
    "ax_left.set_xticks(reversed_value_ticks)\n",
    "ax_left.set_xticklabels(reversed_value_ticks, rotation=90)\n",
    "ax_left.set_yticks(time_ticks)\n",
    "ax_left.set_yticklabels(time_ticklabels, rotation=90)\n",
    "ax_left.set_ylim((0, 4 * np.pi))\n",
    "ax_left.invert_xaxis()\n",
    "\n",
    "# Plot the time series on the top\n",
    "ax_top = fig.add_subplot(gs[0, 1])\n",
    "ax_top.plot(time_points, x)\n",
    "ax_top.set_xticks(time_ticks)\n",
    "ax_top.set_xticklabels(time_ticklabels)\n",
    "ax_top.set_yticks(value_ticks)\n",
    "ax_top.set_yticklabels(value_ticks)\n",
    "ax_top.xaxis.tick_top()\n",
    "ax_top.set_xlim((0, 4 * np.pi))\n",
    "ax_top.set_yticklabels(value_ticks)\n",
    "\n",
    "# Plot the Gramian angular fields on the bottom right\n",
    "ax_mtf = fig.add_subplot(gs[1, 1])\n",
    "im = ax_mtf.imshow(X_mtf[0], cmap='rainbow', origin='lower', vmin=0., vmax=1.,\n",
    "                   extent=[0, 4 * np.pi, 0, 4 * np.pi])\n",
    "ax_mtf.set_xticks([])\n",
    "ax_mtf.set_yticks([])\n",
    "ax_mtf.set_title('Markov Transition Field', y=-0.09)\n",
    "\n",
    "# Add colorbar\n",
    "ax_cbar = fig.add_subplot(gs[1, 2])\n",
    "fig.colorbar(im, cax=ax_cbar)\n",
    "\n",
    "plt.show()"
   ]
  },
  {
   "cell_type": "code",
   "execution_count": null,
   "metadata": {},
   "outputs": [],
   "source": []
  }
 ],
 "metadata": {
  "kernelspec": {
   "display_name": ".vis",
   "language": "python",
   "name": "python3"
  },
  "language_info": {
   "codemirror_mode": {
    "name": "ipython",
    "version": 3
   },
   "file_extension": ".py",
   "mimetype": "text/x-python",
   "name": "python",
   "nbconvert_exporter": "python",
   "pygments_lexer": "ipython3",
   "version": "3.10.6"
  }
 },
 "nbformat": 4,
 "nbformat_minor": 2
}
